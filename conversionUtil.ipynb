{
  "nbformat": 4,
  "nbformat_minor": 0,
  "metadata": {
    "colab": {
      "provenance": [],
      "authorship_tag": "ABX9TyOgswYbKJD6JiM0ges+PEY1",
      "include_colab_link": true
    },
    "kernelspec": {
      "name": "python3",
      "display_name": "Python 3"
    },
    "language_info": {
      "name": "python"
    }
  },
  "cells": [
    {
      "cell_type": "markdown",
      "metadata": {
        "id": "view-in-github",
        "colab_type": "text"
      },
      "source": [
        "<a href=\"https://colab.research.google.com/github/fayzheng2024/python-learning-journal/blob/main/conversionUtil.ipynb\" target=\"_parent\"><img src=\"https://colab.research.google.com/assets/colab-badge.svg\" alt=\"Open In Colab\"/></a>"
      ]
    },
    {
      "cell_type": "code",
      "execution_count": 21,
      "metadata": {
        "colab": {
          "base_uri": "https://localhost:8080/"
        },
        "id": "uyGsYzssaabY",
        "outputId": "fc9fbe17-a1f3-46dc-c473-116308d524c2"
      },
      "outputs": [
        {
          "output_type": "stream",
          "name": "stdout",
          "text": [
            "Enter your distance in km:\n",
            "8\n",
            "Your distance in miles is: 4.97\n",
            "4.970968\n",
            "Enter your temperature in celsius:\n",
            "28\n",
            "Your temperature in fahrenheit is: 82.4\n",
            "binary to decimal 101101000 is 360\n",
            "Enter a binary number:\n",
            "10111111\n",
            "binary to decimal 10111111 is 191\n"
          ]
        }
      ],
      "source": [
        "#convert from km to mile\n",
        "\n",
        "print('Enter your distance in km:')\n",
        "distance = float(input())\n",
        "distance = distance * 0.621371\n",
        "print('Your distance in miles is: %.2f' % (distance))\n",
        "print(distance)\n",
        "\n",
        "#convert from celsius to fahrenheit\n",
        "print('Enter your temperature in celsius:')\n",
        "temp = float(input())\n",
        "temp = (temp * 1.8) + 32\n",
        "print('Your temperature in fahrenheit is:', temp)\n",
        "\n",
        "#convert from binary to decimal\n",
        "binaryNum = '101101000'\n",
        "decimalNum = int(binaryNum, 2)\n",
        "print('binary to decimal %s is %d' % (binaryNum ,decimalNum))\n",
        "\n",
        "def binary2decimal(binaryNum):\n",
        "  try:\n",
        "      binaryNum = str(binaryNum)\n",
        "      decimalNum = 0\n",
        "      for digit in binaryNum:\n",
        "        if digit in ('1', '0'):\n",
        "          decimalNum = decimalNum*2 + int(digit)\n",
        "        else:\n",
        "          print('Error input')\n",
        "          return\n",
        "      print('binary to decimal %s is %d' % (binaryNum ,decimalNum))\n",
        "  except:\n",
        "      print('Error input')\n",
        "\n",
        "#convert from binary to decimal\n",
        "print('Enter a binary number:')\n",
        "binaryNum1 = input()\n",
        "binary2decimal(binaryNum1)\n",
        "\n",
        "\n",
        "\n",
        "\n"
      ]
    }
  ]
}