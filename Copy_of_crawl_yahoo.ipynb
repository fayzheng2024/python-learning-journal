{
  "nbformat": 4,
  "nbformat_minor": 0,
  "metadata": {
    "colab": {
      "provenance": [],
      "authorship_tag": "ABX9TyOyRJdVKPvq9RCeE7l3sMYs",
      "include_colab_link": true
    },
    "kernelspec": {
      "name": "python3",
      "display_name": "Python 3"
    },
    "language_info": {
      "name": "python"
    }
  },
  "cells": [
    {
      "cell_type": "markdown",
      "metadata": {
        "id": "view-in-github",
        "colab_type": "text"
      },
      "source": [
        "<a href=\"https://colab.research.google.com/github/fayzheng2024/python-learning-journal/blob/main/Copy_of_crawl_yahoo.ipynb\" target=\"_parent\"><img src=\"https://colab.research.google.com/assets/colab-badge.svg\" alt=\"Open In Colab\"/></a>"
      ]
    },
    {
      "cell_type": "code",
      "execution_count": null,
      "metadata": {
        "colab": {
          "base_uri": "https://localhost:8080/"
        },
        "id": "Xa4kmLGV1GUe",
        "outputId": "8ac1f032-80c5-412c-d3ef-f1a463f8698e"
      },
      "outputs": [
        {
          "output_type": "stream",
          "name": "stdout",
          "text": [
            "Successfully fetched the page.\n",
            "got soup\n",
            "got title count <built-in method count of ResultSet object at 0x7b2611614860>\n",
            "Stories for you\n"
          ]
        }
      ],
      "source": [
        "# a web crawler for yahoo.com\n",
        "\n",
        "import requests\n",
        "from bs4 import BeautifulSoup\n",
        "\n",
        "def crawl_yahoo():\n",
        "  \"\"\"\n",
        "  Crawls yahoo.com and prints the titles of the top news articles.\n",
        "  \"\"\"\n",
        "  url = \"https://www.yahoo.com\"\n",
        "  response = requests.get(url)\n",
        "  if response.status_code == 200:\n",
        "    print(\"Successfully fetched the page.\")\n",
        "    soup = BeautifulSoup(response.content, \"html.parser\")\n",
        "    print(\"got soup\")\n",
        "    # Find all the news article titles (adjust the selector as needed)\n",
        "    #titles = soup.find_all(\"h2\", class_=\"Mb(5px)\")\n",
        "    titles = soup.find_all(\"h2\", class_=\"Fw(600) Fz(16px) C(--batcave) M(0)\")\n",
        "    print('got title count {0}'.format(titles.count))\n",
        "    for title in titles:\n",
        "      print(title.text)\n",
        "  else:\n",
        "    print(\"Failed to fetch the page.\")\n",
        "\n",
        "#if __name__ == \"__main__\":\n",
        "crawl_yahoo()\n"
      ]
    }
  ]
}