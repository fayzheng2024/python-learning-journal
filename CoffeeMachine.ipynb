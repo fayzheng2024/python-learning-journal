{
  "nbformat": 4,
  "nbformat_minor": 0,
  "metadata": {
    "colab": {
      "provenance": [],
      "authorship_tag": "ABX9TyNbYjvnOh7rYHRURevf4cCP",
      "include_colab_link": true
    },
    "kernelspec": {
      "name": "python3",
      "display_name": "Python 3"
    },
    "language_info": {
      "name": "python"
    }
  },
  "cells": [
    {
      "cell_type": "markdown",
      "metadata": {
        "id": "view-in-github",
        "colab_type": "text"
      },
      "source": [
        "<a href=\"https://colab.research.google.com/github/fayzheng2024/python-learning-journal/blob/main/CoffeeMachine.ipynb\" target=\"_parent\"><img src=\"https://colab.research.google.com/assets/colab-badge.svg\" alt=\"Open In Colab\"/></a>"
      ]
    },
    {
      "cell_type": "code",
      "execution_count": 2,
      "metadata": {
        "colab": {
          "base_uri": "https://localhost:8080/"
        },
        "id": "0vRprES6FiVP",
        "outputId": "5263b58e-81e9-4815-def7-cba5e07aef4c"
      },
      "outputs": [
        {
          "output_type": "stream",
          "name": "stdout",
          "text": [
            "Welcome to the coffee menu!\n",
            "Please choose from the following options:\n",
            "1. Espresso\n",
            "2. Cappuccino\n",
            "3. Latte\n",
            "4. Exit\n",
            "Please enter your selection2\n",
            "Please choose from the following size options: Large, Medium, or small\n",
            "Please enter your size selectionlarge\n",
            "Your order is a Large Cappuccino\n"
          ]
        }
      ],
      "source": [
        "\"\"\"The Coffee Machine by Fei Zheng\n",
        "Create a program simulating a coffee machine. The machine has 3 options: espresso, cappuccino, and latte. A customer can order their coffee in three sizes: small, medium, and large. Using a match statement, ask the user to enter in a coffee type and size, then display the coffee order.\n",
        "\n",
        "Requirements\n",
        "Your program should accomplish the following tasks:\n",
        "\n",
        "Use a match statement to display the coffee menu to the user.\n",
        "Cover user input if they enter input using strange casing (so, if a user asks for 'LARGE', 'large', or 'LaRgE' all should work). Tip: Look up built-in string methods\n",
        "Display output to the user with a print statement detailing type and size of order.\n",
        "Store the size question to the user inside a separate method in order to allow for efficient code reuse.\n",
        "If the user enters an option that isn't covered in either step, exit without crashing and tell the user that there was invalid input.\n",
        "\"\"\"\n",
        "\n",
        "def coffeeMenu():\n",
        "    print(\"Welcome to the coffee menu!\")\n",
        "    print(\"Please choose from the following options:\")\n",
        "    print(\"1. Espresso\")\n",
        "    print(\"2. Cappuccino\")\n",
        "    print(\"3. Latte\")\n",
        "    print(\"4. Exit\")\n",
        "    choice = int(input(\"Please enter your selection\"))\n",
        "    if (choice >= 1 and choice <= 4):\n",
        "        return choice\n",
        "    else:\n",
        "        print(\"Invalid input\")\n",
        "        return 4\n",
        "\n",
        "def coffeeType(choice):\n",
        "    if (choice == 1):\n",
        "        return \"Espresso\"\n",
        "    elif (choice == 2):\n",
        "        return \"Cappuccino\"\n",
        "    elif (choice == 3):\n",
        "        return \"Latte\"\n",
        "\n",
        "def coffeeSize():\n",
        "    print(\"Please choose from the following size options: Large, Medium, or small\")\n",
        "    size = input(\"Please enter your size selection\")\n",
        "    if (size.lower() == \"large\"):\n",
        "        return \"Large\"\n",
        "    elif (size.lower() == \"medium\"):\n",
        "        return \"Medium\"\n",
        "    elif (size.lower() == \"small\"):\n",
        "        return \"Small\"\n",
        "    else:\n",
        "        print(\"Invalid input\")\n",
        "        return \"Invalid input\"\n",
        "\n",
        "choice = coffeeMenu()\n",
        "if (choice ==4):\n",
        "    exit()\n",
        "else:\n",
        "    size = coffeeSize()\n",
        "    if (size == \"Invalid input\"):\n",
        "        exit()\n",
        "    else:\n",
        "        print(\"Your order is a \" + size + \" \" + coffeeType(choice))\n",
        "\n"
      ]
    }
  ]
}