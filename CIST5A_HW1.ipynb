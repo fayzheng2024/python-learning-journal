{
  "cells": [
    {
      "cell_type": "markdown",
      "metadata": {
        "id": "view-in-github",
        "colab_type": "text"
      },
      "source": [
        "<a href=\"https://colab.research.google.com/github/fayzheng2024/python-learning-journal/blob/main/CIST5A_HW1.ipynb\" target=\"_parent\"><img src=\"https://colab.research.google.com/assets/colab-badge.svg\" alt=\"Open In Colab\"/></a>"
      ]
    },
    {
      "cell_type": "markdown",
      "id": "191a475a",
      "metadata": {
        "id": "191a475a"
      },
      "source": [
        "\n",
        "# Homework: Introduction to Python\n",
        "\n",
        "In this homework assignment, you'll practice what you've learned so far: variables, types, operators, errors, and print statements. Complete each part and submit your notebook when you're done.\n",
        "\n",
        "**Instructions:**\n",
        "- Write your code in the provided cells.\n",
        "- Run each cell to check your results.\n",
        "- Submit your completed notebook by the due date.\n"
      ]
    },
    {
      "cell_type": "markdown",
      "id": "1a66deb5",
      "metadata": {
        "id": "1a66deb5"
      },
      "source": [
        "\n",
        "## Part 1: Variables and Types\n",
        "\n",
        "### Exercise 1\n",
        "Create variables of the following types: `int`, `float`, and `str`. Assign any values you like to them and print each one.\n"
      ]
    },
    {
      "cell_type": "code",
      "source": [
        "myInt = int('9')\n",
        "myFloat = float('9.789')\n",
        "myStr = str('Hello World')\n",
        "print(myInt)\n",
        "print(myFloat)\n",
        "print(myStr)"
      ],
      "metadata": {
        "id": "lyl__MZGvkzb",
        "colab": {
          "base_uri": "https://localhost:8080/"
        },
        "outputId": "37852663-73a4-406e-d823-38366c04caaa"
      },
      "id": "lyl__MZGvkzb",
      "execution_count": 1,
      "outputs": [
        {
          "output_type": "stream",
          "name": "stdout",
          "text": [
            "9\n",
            "9.789\n",
            "Hello World\n"
          ]
        }
      ]
    },
    {
      "cell_type": "markdown",
      "id": "48c9443a",
      "metadata": {
        "id": "48c9443a"
      },
      "source": [
        "\n",
        "### Exercise 2\n",
        "The following code contains errors. Identify and correct them.\n"
      ]
    },
    {
      "cell_type": "code",
      "source": [
        "\n",
        "# The code below has errors. Fix them.\n",
        "my_number = int(\"10\")\n",
        "my_float = float(5.0)\n",
        "result = my_number + my_float\n",
        "print(\"The result is: %.1f\" % result)\n"
      ],
      "metadata": {
        "id": "SvF8gutvvnZD",
        "colab": {
          "base_uri": "https://localhost:8080/"
        },
        "outputId": "2ac7de27-9312-40a9-b520-ed46fb8507ed"
      },
      "id": "SvF8gutvvnZD",
      "execution_count": 7,
      "outputs": [
        {
          "output_type": "stream",
          "name": "stdout",
          "text": [
            "The result is: 15.0\n"
          ]
        }
      ]
    },
    {
      "cell_type": "markdown",
      "id": "a3c015b6",
      "metadata": {
        "id": "a3c015b6"
      },
      "source": [
        "\n",
        "## Part 2: Operators\n",
        "\n",
        "### Exercise 3\n",
        "Perform the following arithmetic operations and print the results:\n",
        "1. Addition of two numbers.\n",
        "2. Subtraction of one number from another.\n",
        "3. Multiplication of two numbers.\n",
        "4. Division of one number by another.\n"
      ]
    },
    {
      "cell_type": "code",
      "source": [
        "myInt = int('1239')\n",
        "myFloat = float('469.789')\n",
        "myAddition = myInt + myFloat\n",
        "mySubtraction = myInt - myFloat\n",
        "myMultiplication = myInt * myFloat\n",
        "myDivision = myInt / myFloat\n",
        "print('Addition is %.3f' % myAddition)\n",
        "print('Subtraction is %.3f' % mySubtraction)\n",
        "print('Multiplication is %.3f' % myMultiplication)\n",
        "print('Division is %.3f' % myDivision)"
      ],
      "metadata": {
        "id": "zamuhw5Nvqzz",
        "colab": {
          "base_uri": "https://localhost:8080/"
        },
        "outputId": "f0cda46e-6555-476e-802c-16938749b01a"
      },
      "id": "zamuhw5Nvqzz",
      "execution_count": 12,
      "outputs": [
        {
          "output_type": "stream",
          "name": "stdout",
          "text": [
            "Addition is 1708.789\n",
            "Subtraction is 769.211\n",
            "Multiplication is 582068.571\n",
            "Division is 2.637\n"
          ]
        }
      ]
    },
    {
      "cell_type": "markdown",
      "id": "f980daed",
      "metadata": {
        "id": "f980daed"
      },
      "source": [
        "\n",
        "### Exercise 4\n",
        "Use comparison and logical operators to evaluate the following expressions and print the results:\n",
        "1. Is 10 greater than 5?\n",
        "2. Is 3 less than or equal to 3?\n",
        "3. Is 7 equal to 8?\n",
        "4. Is 5 greater than 3 and 2 less than 4?\n"
      ]
    },
    {
      "cell_type": "code",
      "source": [
        "myInt1 = int('10')\n",
        "myInt2 = int('5')\n",
        "print ('Is 10 greater than 5: %s' % (myInt1 > myInt2))\n",
        "myInt3 = int('3')\n",
        "myInt4 = int('3')\n",
        "print ('Is 3 less than or equal to 3: %s' % (myInt3 <= myInt4))\n",
        "myInt5 = int('7')\n",
        "myInt6 = int('8')\n",
        "print ('Is 7 equal to 8: %s' % (myInt5 == myInt6))\n",
        "myInt7 = int('5')\n",
        "myInt8 = int('2')\n",
        "myInt9 = int('4')\n",
        "print ('Is 5 greater than 3 and 2 less than 4: %s' % ((myInt7 > myInt3) and (myInt8 < myInt9)))\n"
      ],
      "metadata": {
        "id": "XppOrgdkvsek",
        "colab": {
          "base_uri": "https://localhost:8080/"
        },
        "outputId": "58e83b60-3d9c-49c0-97c9-99ac167c3709"
      },
      "id": "XppOrgdkvsek",
      "execution_count": 18,
      "outputs": [
        {
          "output_type": "stream",
          "name": "stdout",
          "text": [
            "Is 10 greater than 5: True\n",
            "Is 3 less than or equal to 3: True\n",
            "Is 7 equal to 8: False\n",
            "Is 5 greater than 3 and 2 less than 4: True\n"
          ]
        }
      ]
    },
    {
      "cell_type": "markdown",
      "id": "2d983229",
      "metadata": {
        "id": "2d983229"
      },
      "source": [
        "\n",
        "## Part 3: Errors and Debugging\n",
        "\n",
        "### Exercise 5\n",
        "The following code contains syntax and runtime errors. Identify and correct them.\n"
      ]
    },
    {
      "cell_type": "code",
      "source": [
        "\n",
        "# The code below has errors. Fix them.\n",
        "myVariable = \"This is my first string\";\n",
        "remove2 = \" first\";\n",
        "finalString =\"\"\n",
        "for word in myVariable.split():\n",
        "    #print(word)\n",
        "    if word == remove2.strip():\n",
        "        print('removing %s' % remove2)\n",
        "        continue\n",
        "    else:\n",
        "        finalString = finalString + word + \" \"\n",
        "print(finalString);\n"
      ],
      "metadata": {
        "id": "j4_bjx1dvuiZ",
        "colab": {
          "base_uri": "https://localhost:8080/"
        },
        "outputId": "ce74e01a-ee19-495a-d533-cac934b08d13"
      },
      "id": "j4_bjx1dvuiZ",
      "execution_count": 31,
      "outputs": [
        {
          "output_type": "stream",
          "name": "stdout",
          "text": [
            "removing  first\n",
            "This is my string \n"
          ]
        }
      ]
    },
    {
      "cell_type": "markdown",
      "id": "d518bb80",
      "metadata": {
        "id": "d518bb80"
      },
      "source": [
        "\n",
        "## Part 4: Print Statements\n",
        "\n",
        "### Exercise 6\n",
        "Use print statements to display the following:\n",
        "1. A string that says \"Hello, World!\"\n",
        "2. A formatted string that includes the values of two variables.\n"
      ]
    },
    {
      "cell_type": "code",
      "source": [
        "str1 = \"Hello\"\n",
        "str2 = \"World\"\n",
        "strFormat = \"%s, %s!\" % (str1, str2)\n",
        "print(strFormat)"
      ],
      "metadata": {
        "id": "PGuvP7m3w172",
        "colab": {
          "base_uri": "https://localhost:8080/"
        },
        "outputId": "42096b0e-bdd4-4a2f-ae9a-dd93b14b0411"
      },
      "id": "PGuvP7m3w172",
      "execution_count": 27,
      "outputs": [
        {
          "output_type": "stream",
          "name": "stdout",
          "text": [
            "Hello, World!\n"
          ]
        }
      ]
    },
    {
      "cell_type": "markdown",
      "id": "c21ec108",
      "metadata": {
        "id": "c21ec108"
      },
      "source": [
        "\n",
        "### Exercise 7\n",
        "Print multiple variables each on their own line using a **single** print statement.\n"
      ]
    },
    {
      "cell_type": "code",
      "source": [
        "myInt = 9\n",
        "myFloat = 9.789\n",
        "myStr = \"Hello World\"\n",
        "print('%d\\r\\n%.3f\\r\\n%s\\r\\n' % (myInt, myFloat, myStr))"
      ],
      "metadata": {
        "id": "gq6QZ9Qiw3ur",
        "colab": {
          "base_uri": "https://localhost:8080/"
        },
        "outputId": "06ac3050-f451-4bd9-b229-a6bc0a0a5a2b"
      },
      "id": "gq6QZ9Qiw3ur",
      "execution_count": 32,
      "outputs": [
        {
          "output_type": "stream",
          "name": "stdout",
          "text": [
            "9\r\n",
            "9.789\r\n",
            "Hello World\r\n",
            "\n"
          ]
        }
      ]
    },
    {
      "cell_type": "markdown",
      "id": "7cceefaf",
      "metadata": {
        "id": "7cceefaf"
      },
      "source": [
        "\n",
        "## Conclusion\n",
        "\n",
        "Reflect on what you've learned in this homework. What parts were easy for you? Which ones were challenging? Write a few sentences below.\n"
      ]
    }
  ],
  "metadata": {
    "colab": {
      "provenance": [],
      "include_colab_link": true
    },
    "language_info": {
      "name": "python"
    },
    "kernelspec": {
      "name": "python3",
      "display_name": "Python 3"
    }
  },
  "nbformat": 4,
  "nbformat_minor": 5
}