{
  "nbformat": 4,
  "nbformat_minor": 0,
  "metadata": {
    "colab": {
      "provenance": [],
      "authorship_tag": "ABX9TyPjm3Zbi8rNshDMMKjqhjLa",
      "include_colab_link": true
    },
    "kernelspec": {
      "name": "python3",
      "display_name": "Python 3"
    },
    "language_info": {
      "name": "python"
    }
  },
  "cells": [
    {
      "cell_type": "markdown",
      "metadata": {
        "id": "view-in-github",
        "colab_type": "text"
      },
      "source": [
        "<a href=\"https://colab.research.google.com/github/fayzheng2024/python-learning-journal/blob/main/ShapeAreaCaculator.ipynb\" target=\"_parent\"><img src=\"https://colab.research.google.com/assets/colab-badge.svg\" alt=\"Open In Colab\"/></a>"
      ]
    },
    {
      "cell_type": "code",
      "execution_count": 4,
      "metadata": {
        "colab": {
          "base_uri": "https://localhost:8080/"
        },
        "id": "QlGlI3k94FLl",
        "outputId": "aab43774-0ea1-4319-9df0-7d5fa6967938"
      },
      "outputs": [
        {
          "output_type": "stream",
          "name": "stdout",
          "text": [
            "Enter your radius:\n",
            "5\n",
            "The area of the circle is 78.50\n",
            "Enter your rectangle length:\n",
            "10\n",
            "Enter your rectangle width:\n",
            "6\n",
            "The area of the rectangle is 60.00\n",
            "Enter your triangle base:\n",
            "8\n",
            "Enter your triangle height:\n",
            "5\n",
            "The area of the triangle is 20.00\n"
          ]
        }
      ],
      "source": [
        "#Fei Zheng\n",
        "#circle area\n",
        "def areaCircle(radius):\n",
        "  return 3.14 * radius * radius\n",
        "\n",
        "#rectangle area\n",
        "def areaRectangle(length, width):\n",
        "  return length * width\n",
        "\n",
        "#triangle area\n",
        "def areaTriangle(base, height):\n",
        "    return 0.5 * base * height\n",
        "\n",
        "#circle\n",
        "print('Enter your radius:')\n",
        "radius = float(input())\n",
        "print('The area of the circle is %.2f' %   (areaCircle(radius)))\n",
        "\n",
        "#rectangle\n",
        "print('Enter your rectangle length:')\n",
        "length = float(input())\n",
        "print('Enter your rectangle width:')\n",
        "width = float(input())\n",
        "print('The area of the rectangle is %.2f' % (areaRectangle(length, width)))\n",
        "\n",
        "#triangle\n",
        "print('Enter your triangle base:')\n",
        "base = float(input())\n",
        "print('Enter your triangle height:')\n",
        "height = float(input())\n",
        "print('The area of the triangle is %.2f' % (areaTriangle(base, height)))\n"
      ]
    }
  ]
}