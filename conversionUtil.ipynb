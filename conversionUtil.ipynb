{
  "nbformat": 4,
  "nbformat_minor": 0,
  "metadata": {
    "colab": {
      "provenance": [],
      "authorship_tag": "ABX9TyMT9klEXsG/btzdwdDq6XBN",
      "include_colab_link": true
    },
    "kernelspec": {
      "name": "python3",
      "display_name": "Python 3"
    },
    "language_info": {
      "name": "python"
    }
  },
  "cells": [
    {
      "cell_type": "markdown",
      "metadata": {
        "id": "view-in-github",
        "colab_type": "text"
      },
      "source": [
        "<a href=\"https://colab.research.google.com/github/fayzheng2024/python-learning-journal/blob/main/conversionUtil.ipynb\" target=\"_parent\"><img src=\"https://colab.research.google.com/assets/colab-badge.svg\" alt=\"Open In Colab\"/></a>"
      ]
    },
    {
      "cell_type": "code",
      "execution_count": 9,
      "metadata": {
        "colab": {
          "base_uri": "https://localhost:8080/"
        },
        "id": "uyGsYzssaabY",
        "outputId": "9d0b2fa1-265f-4583-d606-bb173c6d38e5"
      },
      "outputs": [
        {
          "output_type": "stream",
          "name": "stdout",
          "text": [
            "Enter your distance in km:\n",
            "67\n",
            "Your distance in miles is: 41.63\n",
            "41.631857000000004\n",
            "Enter your temperature in celsius:\n",
            "32\n",
            "Your temperature in fahrenheit is: 89.6\n",
            "binary to decimal 101101000 is 360\n"
          ]
        }
      ],
      "source": [
        "#convert from km to mile\n",
        "\n",
        "print('Enter your distance in km:')\n",
        "distance = float(input())\n",
        "distance = distance * 0.621371\n",
        "print('Your distance in miles is: %.2f' % (distance))\n",
        "print(distance)\n",
        "\n",
        "#convert from celsius to fahrenheit\n",
        "print('Enter your temperature in celsius:')\n",
        "temp = float(input())\n",
        "temp = (temp * 1.8) + 32\n",
        "print('Your temperature in fahrenheit is:', temp)\n",
        "\n",
        "#convert from binary to decimal\n",
        "binaryNum = '101101000'\n",
        "decimalNum = int(binaryNum, 2)\n",
        "print('binary to decimal %s is %d' % (binaryNum ,decimalNum))\n",
        "\n",
        "#for digit in binary:\n",
        "#    decimal = decimal*2 + int(digit)\n"
      ]
    }
  ]
}